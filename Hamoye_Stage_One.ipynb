{
 "cells": [
  {
   "cell_type": "markdown",
   "id": "c388b0a6",
   "metadata": {},
   "source": [
    "# Hamoye Stage One Quiz"
   ]
  },
  {
   "cell_type": "code",
   "execution_count": 3,
   "id": "59d8ae27",
   "metadata": {},
   "outputs": [],
   "source": [
    "#import libraries\n",
    "import numpy as np\n",
    "import pandas as pd"
   ]
  },
  {
   "cell_type": "code",
   "execution_count": 49,
   "id": "11998230",
   "metadata": {},
   "outputs": [
    {
     "data": {
      "text/html": [
       "<div>\n",
       "<style scoped>\n",
       "    .dataframe tbody tr th:only-of-type {\n",
       "        vertical-align: middle;\n",
       "    }\n",
       "\n",
       "    .dataframe tbody tr th {\n",
       "        vertical-align: top;\n",
       "    }\n",
       "\n",
       "    .dataframe thead th {\n",
       "        text-align: right;\n",
       "    }\n",
       "</style>\n",
       "<table border=\"1\" class=\"dataframe\">\n",
       "  <thead>\n",
       "    <tr style=\"text-align: right;\">\n",
       "      <th></th>\n",
       "      <th>Area Code</th>\n",
       "      <th>Area</th>\n",
       "      <th>Item Code</th>\n",
       "      <th>Item</th>\n",
       "      <th>Element Code</th>\n",
       "      <th>Element</th>\n",
       "      <th>Unit</th>\n",
       "      <th>Y2014</th>\n",
       "      <th>Y2015</th>\n",
       "      <th>Y2016</th>\n",
       "      <th>Y2017</th>\n",
       "      <th>Y2018</th>\n",
       "    </tr>\n",
       "  </thead>\n",
       "  <tbody>\n",
       "    <tr>\n",
       "      <th>0</th>\n",
       "      <td>4</td>\n",
       "      <td>Algeria</td>\n",
       "      <td>2501</td>\n",
       "      <td>Population</td>\n",
       "      <td>511</td>\n",
       "      <td>Total Population - Both sexes</td>\n",
       "      <td>1000 persons</td>\n",
       "      <td>38924.00</td>\n",
       "      <td>39728.00</td>\n",
       "      <td>40551.00</td>\n",
       "      <td>41389.00</td>\n",
       "      <td>42228.00</td>\n",
       "    </tr>\n",
       "    <tr>\n",
       "      <th>1</th>\n",
       "      <td>4</td>\n",
       "      <td>Algeria</td>\n",
       "      <td>2501</td>\n",
       "      <td>Population</td>\n",
       "      <td>5301</td>\n",
       "      <td>Domestic supply quantity</td>\n",
       "      <td>1000 tonnes</td>\n",
       "      <td>0.00</td>\n",
       "      <td>0.00</td>\n",
       "      <td>0.00</td>\n",
       "      <td>0.00</td>\n",
       "      <td>0.00</td>\n",
       "    </tr>\n",
       "    <tr>\n",
       "      <th>2</th>\n",
       "      <td>4</td>\n",
       "      <td>Algeria</td>\n",
       "      <td>2901</td>\n",
       "      <td>Grand Total</td>\n",
       "      <td>664</td>\n",
       "      <td>Food supply (kcal/capita/day)</td>\n",
       "      <td>kcal/capita/day</td>\n",
       "      <td>3377.00</td>\n",
       "      <td>3379.00</td>\n",
       "      <td>3372.00</td>\n",
       "      <td>3341.00</td>\n",
       "      <td>3322.00</td>\n",
       "    </tr>\n",
       "    <tr>\n",
       "      <th>3</th>\n",
       "      <td>4</td>\n",
       "      <td>Algeria</td>\n",
       "      <td>2901</td>\n",
       "      <td>Grand Total</td>\n",
       "      <td>674</td>\n",
       "      <td>Protein supply quantity (g/capita/day)</td>\n",
       "      <td>g/capita/day</td>\n",
       "      <td>94.90</td>\n",
       "      <td>94.35</td>\n",
       "      <td>94.72</td>\n",
       "      <td>92.82</td>\n",
       "      <td>91.83</td>\n",
       "    </tr>\n",
       "    <tr>\n",
       "      <th>4</th>\n",
       "      <td>4</td>\n",
       "      <td>Algeria</td>\n",
       "      <td>2901</td>\n",
       "      <td>Grand Total</td>\n",
       "      <td>684</td>\n",
       "      <td>Fat supply quantity (g/capita/day)</td>\n",
       "      <td>g/capita/day</td>\n",
       "      <td>80.06</td>\n",
       "      <td>79.36</td>\n",
       "      <td>77.40</td>\n",
       "      <td>80.19</td>\n",
       "      <td>77.28</td>\n",
       "    </tr>\n",
       "    <tr>\n",
       "      <th>5</th>\n",
       "      <td>4</td>\n",
       "      <td>Algeria</td>\n",
       "      <td>2903</td>\n",
       "      <td>Vegetal Products</td>\n",
       "      <td>664</td>\n",
       "      <td>Food supply (kcal/capita/day)</td>\n",
       "      <td>kcal/capita/day</td>\n",
       "      <td>2932.00</td>\n",
       "      <td>2958.00</td>\n",
       "      <td>2941.00</td>\n",
       "      <td>2921.00</td>\n",
       "      <td>2932.00</td>\n",
       "    </tr>\n",
       "    <tr>\n",
       "      <th>6</th>\n",
       "      <td>4</td>\n",
       "      <td>Algeria</td>\n",
       "      <td>2903</td>\n",
       "      <td>Vegetal Products</td>\n",
       "      <td>674</td>\n",
       "      <td>Protein supply quantity (g/capita/day)</td>\n",
       "      <td>g/capita/day</td>\n",
       "      <td>67.14</td>\n",
       "      <td>67.38</td>\n",
       "      <td>67.37</td>\n",
       "      <td>66.11</td>\n",
       "      <td>67.10</td>\n",
       "    </tr>\n",
       "    <tr>\n",
       "      <th>7</th>\n",
       "      <td>4</td>\n",
       "      <td>Algeria</td>\n",
       "      <td>2903</td>\n",
       "      <td>Vegetal Products</td>\n",
       "      <td>684</td>\n",
       "      <td>Fat supply quantity (g/capita/day)</td>\n",
       "      <td>g/capita/day</td>\n",
       "      <td>53.84</td>\n",
       "      <td>54.72</td>\n",
       "      <td>52.04</td>\n",
       "      <td>55.59</td>\n",
       "      <td>54.57</td>\n",
       "    </tr>\n",
       "    <tr>\n",
       "      <th>8</th>\n",
       "      <td>4</td>\n",
       "      <td>Algeria</td>\n",
       "      <td>2941</td>\n",
       "      <td>Animal Products</td>\n",
       "      <td>664</td>\n",
       "      <td>Food supply (kcal/capita/day)</td>\n",
       "      <td>kcal/capita/day</td>\n",
       "      <td>444.00</td>\n",
       "      <td>421.00</td>\n",
       "      <td>431.00</td>\n",
       "      <td>421.00</td>\n",
       "      <td>390.00</td>\n",
       "    </tr>\n",
       "    <tr>\n",
       "      <th>9</th>\n",
       "      <td>4</td>\n",
       "      <td>Algeria</td>\n",
       "      <td>2941</td>\n",
       "      <td>Animal Products</td>\n",
       "      <td>674</td>\n",
       "      <td>Protein supply quantity (g/capita/day)</td>\n",
       "      <td>g/capita/day</td>\n",
       "      <td>27.76</td>\n",
       "      <td>26.97</td>\n",
       "      <td>27.35</td>\n",
       "      <td>26.71</td>\n",
       "      <td>24.73</td>\n",
       "    </tr>\n",
       "  </tbody>\n",
       "</table>\n",
       "</div>"
      ],
      "text/plain": [
       "   Area Code     Area  Item Code              Item  Element Code  \\\n",
       "0          4  Algeria       2501        Population           511   \n",
       "1          4  Algeria       2501        Population          5301   \n",
       "2          4  Algeria       2901       Grand Total           664   \n",
       "3          4  Algeria       2901       Grand Total           674   \n",
       "4          4  Algeria       2901       Grand Total           684   \n",
       "5          4  Algeria       2903  Vegetal Products           664   \n",
       "6          4  Algeria       2903  Vegetal Products           674   \n",
       "7          4  Algeria       2903  Vegetal Products           684   \n",
       "8          4  Algeria       2941   Animal Products           664   \n",
       "9          4  Algeria       2941   Animal Products           674   \n",
       "\n",
       "                                  Element             Unit     Y2014  \\\n",
       "0           Total Population - Both sexes     1000 persons  38924.00   \n",
       "1                Domestic supply quantity      1000 tonnes      0.00   \n",
       "2           Food supply (kcal/capita/day)  kcal/capita/day   3377.00   \n",
       "3  Protein supply quantity (g/capita/day)     g/capita/day     94.90   \n",
       "4      Fat supply quantity (g/capita/day)     g/capita/day     80.06   \n",
       "5           Food supply (kcal/capita/day)  kcal/capita/day   2932.00   \n",
       "6  Protein supply quantity (g/capita/day)     g/capita/day     67.14   \n",
       "7      Fat supply quantity (g/capita/day)     g/capita/day     53.84   \n",
       "8           Food supply (kcal/capita/day)  kcal/capita/day    444.00   \n",
       "9  Protein supply quantity (g/capita/day)     g/capita/day     27.76   \n",
       "\n",
       "      Y2015     Y2016     Y2017     Y2018  \n",
       "0  39728.00  40551.00  41389.00  42228.00  \n",
       "1      0.00      0.00      0.00      0.00  \n",
       "2   3379.00   3372.00   3341.00   3322.00  \n",
       "3     94.35     94.72     92.82     91.83  \n",
       "4     79.36     77.40     80.19     77.28  \n",
       "5   2958.00   2941.00   2921.00   2932.00  \n",
       "6     67.38     67.37     66.11     67.10  \n",
       "7     54.72     52.04     55.59     54.57  \n",
       "8    421.00    431.00    421.00    390.00  \n",
       "9     26.97     27.35     26.71     24.73  "
      ]
     },
     "execution_count": 49,
     "metadata": {},
     "output_type": "execute_result"
    }
   ],
   "source": [
    "#Load the data \n",
    "data = pd.read_csv(\"C://Users//upsca//Downloads//FoodBalanceSheets_E_Africa_NOFLAG.csv\", encoding='latin1')\n",
    "data.head(10)"
   ]
  },
  {
   "cell_type": "code",
   "execution_count": 52,
   "id": "2ee10475",
   "metadata": {},
   "outputs": [
    {
     "data": {
      "text/plain": [
       "(60943, 12)"
      ]
     },
     "execution_count": 52,
     "metadata": {},
     "output_type": "execute_result"
    }
   ],
   "source": [
    "data.shape"
   ]
  },
  {
   "cell_type": "markdown",
   "id": "6861d937",
   "metadata": {},
   "source": [
    "### Question 1\n",
    "Which of these python data structures is unorderly?\n",
    "\n",
    "Options\n",
    "- Set\n",
    "- Dictionary\n",
    "- List\n",
    "- Tuple\n",
    "\n",
    "Answer: \n",
    "#### Dictionary\n",
    "\n",
    "Just like a dictionary, a set is also an unordered python data structure"
   ]
  },
  {
   "cell_type": "markdown",
   "id": "79bd7142",
   "metadata": {},
   "source": [
    "### Question 2\n",
    "Perform a groupby operation on ‘Element’.  What year has the highest sum of Stock Variation?"
   ]
  },
  {
   "cell_type": "code",
   "execution_count": 64,
   "id": "b8ac3ef5",
   "metadata": {},
   "outputs": [
    {
     "name": "stdout",
     "output_type": "stream",
     "text": [
      "The year with the highest 'Stock Variation' is: Y2014\n"
     ]
    }
   ],
   "source": [
    "# Group the data by 'Element' and sum the numeric columns for each group\n",
    "grouped_data = data.groupby('Element').sum()\n",
    "\n",
    "# Access the 'Stock Variation' row and determine the year with the highest sum\n",
    "max_stock_year = grouped_data.loc['Stock Variation', ['Y2014', 'Y2015', 'Y2016', 'Y2017', 'Y2018']].idxmax()\n",
    "\n",
    "# Print the year with the highest 'Stock Variation'\n",
    "print(f\"The year with the highest 'Stock Variation' is: {max_stock_year}\")\n"
   ]
  },
  {
   "cell_type": "markdown",
   "id": "67edd895",
   "metadata": {},
   "source": [
    "### Question 3\n",
    "What is the mean and standard deviation across the whole dataset for the year 2017 to 2 decimal places?"
   ]
  },
  {
   "cell_type": "code",
   "execution_count": 9,
   "id": "6012a48e",
   "metadata": {},
   "outputs": [
    {
     "name": "stdout",
     "output_type": "stream",
     "text": [
      "Mean for 2017: 140.92\n",
      "Standard Deviation for 2017: 1671.86\n"
     ]
    }
   ],
   "source": [
    "# Calculate mean and standard deviation for the year 2017\n",
    "mean_2017 = data['Y2017'].mean()\n",
    "std_dev_2017 = data['Y2017'].std()\n",
    "\n",
    "# Print the mean and standard deviation rounded to two decimal places\n",
    "print(f\"Mean for 2017: {mean_2017:.2f}\")\n",
    "print(f\"Standard Deviation for 2017: {std_dev_2017:.2f}\")"
   ]
  },
  {
   "cell_type": "markdown",
   "id": "8497ac42",
   "metadata": {},
   "source": [
    "### Question 4\n",
    "What is the total number and percentage of missing data in 2014 to 3 decimal places?"
   ]
  },
  {
   "cell_type": "code",
   "execution_count": 12,
   "id": "f6a2d427",
   "metadata": {},
   "outputs": [
    {
     "data": {
      "text/plain": [
       "(1589, 2.607)"
      ]
     },
     "execution_count": 12,
     "metadata": {},
     "output_type": "execute_result"
    }
   ],
   "source": [
    "# Calculate the total number of missing values in the year 2014 and the percentage of missing data\n",
    "missing_value_2014 = data['Y2014'].isna().sum()\n",
    "percentage_missing_2014 = (missing_value_2014 / len(data)) * 100\n",
    "\n",
    "missing_value_2014, round(percentage_missing_2014, 3)\n"
   ]
  },
  {
   "cell_type": "markdown",
   "id": "52648e95",
   "metadata": {},
   "source": [
    "### Question 5\n",
    "What would be the output for?\n",
    "S = [['him', 'sell'], [90, 28, 43]]\n",
    "S[0][1][1]\n"
   ]
  },
  {
   "cell_type": "code",
   "execution_count": 14,
   "id": "4005fa10",
   "metadata": {},
   "outputs": [
    {
     "name": "stdout",
     "output_type": "stream",
     "text": [
      "e\n"
     ]
    }
   ],
   "source": [
    "S = [['him', 'sell'], [90, 28, 43]]\n",
    "output = S[0][1][1]\n",
    "print(output)"
   ]
  },
  {
   "cell_type": "markdown",
   "id": "216c53bb",
   "metadata": {},
   "source": [
    "### Question 6\n",
    "How would you check for the number of rows and columns in a pandas DataFrame named df?\n",
    "\n",
    "Options\n",
    "- df.shape\n",
    "- pd.length(df)\n",
    "- len(df)\n",
    "- df.shape( )\n",
    "\n",
    "Answer: \n",
    "#### df.shape"
   ]
  },
  {
   "cell_type": "markdown",
   "id": "fe4bb8be",
   "metadata": {},
   "source": [
    "### Question 7\n",
    "Consider the following list of tuples:\n",
    "y = [(2, 4), (7, 8), (1, 5, 9)]\n",
    "How would you assign element 8 from the list to a variable x?\n"
   ]
  },
  {
   "cell_type": "code",
   "execution_count": 66,
   "id": "a1e1e579",
   "metadata": {},
   "outputs": [
    {
     "name": "stdout",
     "output_type": "stream",
     "text": [
      "8\n"
     ]
    }
   ],
   "source": [
    "y = [(2, 4), (7, 8), (1, 5, 9)]\n",
    "x = y[1][1]\n",
    "print(x)"
   ]
  },
  {
   "cell_type": "markdown",
   "id": "12b92870",
   "metadata": {},
   "source": [
    "### Question 8\n",
    "What is the total number of unique countries in the dataset?"
   ]
  },
  {
   "cell_type": "code",
   "execution_count": 16,
   "id": "adcc8485",
   "metadata": {},
   "outputs": [
    {
     "data": {
      "text/plain": [
       "49"
      ]
     },
     "execution_count": 16,
     "metadata": {},
     "output_type": "execute_result"
    }
   ],
   "source": [
    "# Calculate the number of unique countries\n",
    "unique_countries_count = data['Area'].nunique()\n",
    "unique_countries_count"
   ]
  },
  {
   "cell_type": "markdown",
   "id": "fcb6d8bc",
   "metadata": {},
   "source": [
    "### Question 9\n",
    "A pandas Dataframe with dimensions (100,3) has how many features and observations?\n",
    "\n",
    "Options\n",
    "- 3 features, 100 observations\n",
    "- A pandas dataframe has no attribute feature or observation.\n",
    "- 100 rows and 3 observations.\n",
    "- 100 features, 3 observations.\n",
    "\n",
    "Answer: \n",
    "#### 100 rows and 3 observations"
   ]
  },
  {
   "cell_type": "markdown",
   "id": "9b2d4a43",
   "metadata": {},
   "source": [
    "### Question 10\n",
    "What is the total sum of Wine produced in 2015 and 2018 respectively?"
   ]
  },
  {
   "cell_type": "code",
   "execution_count": 18,
   "id": "8257bf47",
   "metadata": {},
   "outputs": [
    {
     "data": {
      "text/plain": [
       "(4251.81, 4039.32)"
      ]
     },
     "execution_count": 18,
     "metadata": {},
     "output_type": "execute_result"
    }
   ],
   "source": [
    "# Perform a groupby operation on 'Item' and sum up the values for each year, then extract the sum for 'Wine' for 2015 and 2018\n",
    "item_grouped = data.groupby('Item').sum()\n",
    "wine_production_2015 = item_grouped.loc['Wine', 'Y2015']\n",
    "wine_production_2018 = item_grouped.loc['Wine', 'Y2018']\n",
    "\n",
    "wine_production_2015, wine_production_2018\n"
   ]
  },
  {
   "cell_type": "markdown",
   "id": "e476242d",
   "metadata": {},
   "source": [
    "### Question 11\n",
    "Which year had the least correlation with ‘Element Code’?"
   ]
  },
  {
   "cell_type": "code",
   "execution_count": 27,
   "id": "a7fd91ef",
   "metadata": {},
   "outputs": [
    {
     "data": {
      "text/plain": [
       "(Element Code    1.000000\n",
       " Y2014           0.024457\n",
       " Y2015           0.023889\n",
       " Y2016           0.023444\n",
       " Y2017           0.024254\n",
       " Y2018           0.024279\n",
       " Name: Element Code, dtype: float64,\n",
       " 'Y2016')"
      ]
     },
     "execution_count": 27,
     "metadata": {},
     "output_type": "execute_result"
    }
   ],
   "source": [
    "correlations = data[['Element Code', 'Y2014', 'Y2015', 'Y2016', 'Y2017', 'Y2018']].corr()['Element Code']\n",
    "least_correlation_year = correlations[1:].idxmin()  # Ignore the first entry as it is 'Element Code' with itself\n",
    "\n",
    "correlations, least_correlation_year\n"
   ]
  },
  {
   "cell_type": "markdown",
   "id": "78d60d06",
   "metadata": {},
   "source": [
    "### Question 12\n",
    "Perform a groupby operation on ‘Element’.  What is the total number of the sum of Processing in 2017?"
   ]
  },
  {
   "cell_type": "code",
   "execution_count": 34,
   "id": "6439a657",
   "metadata": {},
   "outputs": [
    {
     "name": "stdout",
     "output_type": "stream",
     "text": [
      "292836.0\n"
     ]
    }
   ],
   "source": [
    "element_grouped = data.groupby('Element').sum()\n",
    "processing_total_2017 = element_grouped.loc['Processing', 'Y2017'] \n",
    "\n",
    "print(processing_total_2017)\n"
   ]
  },
  {
   "cell_type": "markdown",
   "id": "2050b667",
   "metadata": {},
   "source": [
    "### Question 13\n",
    "Given the following python code, what would the output of the code give?\n",
    "\n",
    "Options\n",
    "- Math Error\n",
    "- Value Error\n",
    "- Standard Error\n",
    "- Type Error\n",
    "\n",
    "Answer:\n",
    "#### Type Error"
   ]
  },
  {
   "cell_type": "code",
   "execution_count": 36,
   "id": "94710da1",
   "metadata": {},
   "outputs": [
    {
     "ename": "TypeError",
     "evalue": "'tuple' object does not support item assignment",
     "output_type": "error",
     "traceback": [
      "\u001b[1;31m---------------------------------------------------------------------------\u001b[0m",
      "\u001b[1;31mTypeError\u001b[0m                                 Traceback (most recent call last)",
      "Input \u001b[1;32mIn [36]\u001b[0m, in \u001b[0;36m<cell line: 3>\u001b[1;34m()\u001b[0m\n\u001b[0;32m      1\u001b[0m \u001b[38;5;66;03m#Given the following python code, what would the output of the code give?\u001b[39;00m\n\u001b[0;32m      2\u001b[0m my_tuppy \u001b[38;5;241m=\u001b[39m (\u001b[38;5;241m1\u001b[39m,\u001b[38;5;241m2\u001b[39m,\u001b[38;5;241m5\u001b[39m,\u001b[38;5;241m8\u001b[39m)\n\u001b[1;32m----> 3\u001b[0m my_tuppy[\u001b[38;5;241m2\u001b[39m] \u001b[38;5;241m=\u001b[39m \u001b[38;5;241m6\u001b[39m\n",
      "\u001b[1;31mTypeError\u001b[0m: 'tuple' object does not support item assignment"
     ]
    }
   ],
   "source": [
    "my_tuppy = (1,2,5,8)\n",
    "my_tuppy[2] = 6"
   ]
  },
  {
   "cell_type": "markdown",
   "id": "2af6b7d8",
   "metadata": {},
   "source": [
    "### Question 14\n",
    "Given the following numpy array \n",
    "array  = \n",
    "([[94, 89, 63],\n",
    "             [93, 92, 48],\n",
    "             [92, 94, 56]])\n",
    "How would you select the elements in bold and italics from the array?\n",
    "\n",
    "Options\n",
    "- array[ : 2, 1 : ] \n",
    "- array[ 1 : , : ]\n",
    "- array[ : 1, 1 :] \n",
    "- array[ : 1, 1 : ]\n",
    "- array[ : 2, 0 : ]\n",
    "\n",
    "Answer: \n",
    "#### array[ : 2, 1 : ]"
   ]
  },
  {
   "cell_type": "code",
   "execution_count": 63,
   "id": "57be9862",
   "metadata": {},
   "outputs": [
    {
     "data": {
      "text/plain": [
       "array([[89, 63],\n",
       "       [92, 48]])"
      ]
     },
     "execution_count": 63,
     "metadata": {},
     "output_type": "execute_result"
    }
   ],
   "source": [
    "array = np.array([[94, 89, 63],\n",
    "                  [93, 92, 48],\n",
    "                  [92, 94, 56]])\n",
    "\n",
    "selected_elements = array[ : 2, 1 : ]\n",
    "\n",
    "selected_elements"
   ]
  },
  {
   "cell_type": "markdown",
   "id": "9b3b0443",
   "metadata": {},
   "source": [
    "### Question 15\n",
    "Which of the following dataframe methods can be used to access elements across rows and columns?\n",
    "\n",
    "Options\n",
    "- df.iloc[ : ] \n",
    "- df.iloc( )\n",
    "- df.loc( )\n",
    "- c and d\n",
    "- df.loc( : )\n",
    "\n",
    "Answer:\n",
    "#### df.iloc[ : ]\n",
    "The answer given above is incorrect. Howerever, this was my submitted). The right answers would have been df.iloc() and df.loc() if they were represented with squared brackets (df.iloc[ ] and df.loc[ ]) instead of parentheses as using parentheses is incorrect in the context of accessing DataFrame elements."
   ]
  },
  {
   "cell_type": "markdown",
   "id": "5b3eb9d3",
   "metadata": {},
   "source": [
    "### Question 16\n",
    "What is the total Protein supply quantity in Madagascar in 2015?"
   ]
  },
  {
   "cell_type": "code",
   "execution_count": 40,
   "id": "a7b025b9",
   "metadata": {},
   "outputs": [
    {
     "name": "stdout",
     "output_type": "stream",
     "text": [
      "Total Protein Supply Quantity in Madagascar in 2015: 173.05\n"
     ]
    }
   ],
   "source": [
    "# Filter data for Madagascar and the specific element for 2015\n",
    "madagascar_protein = data[(data['Area'] == 'Madagascar') & (data['Element'] == 'Protein supply quantity (g/capita/day)')]\n",
    "total_protein_2015 = madagascar_protein['Y2015'].sum()\n",
    "\n",
    "# Round the total protein supply to 2 decimal places\n",
    "total_protein_2015 = round(total_protein_2015, 2)\n",
    "\n",
    "print(\"Total Protein Supply Quantity in Madagascar in 2015:\", total_protein_2015)\n"
   ]
  },
  {
   "cell_type": "markdown",
   "id": "0e1a5e50",
   "metadata": {},
   "source": [
    "### Question 17\n",
    "\n",
    "Select columns ‘Y2017’ and ‘Area’, Perform a groupby operation on ‘Area’.  Which of these Areas had the highest sum in 2017?\n"
   ]
  },
  {
   "cell_type": "code",
   "execution_count": 43,
   "id": "30dd2625",
   "metadata": {},
   "outputs": [
    {
     "name": "stdout",
     "output_type": "stream",
     "text": [
      "Area with the highest sum in 2017: Nigeria\n",
      "Highest sum in 2017: 1483268.23\n"
     ]
    }
   ],
   "source": [
    "# Select only the 'Area' and 'Y2017' columns\n",
    "selected_data = data[['Area', 'Y2017']]\n",
    "\n",
    "# Group by 'Area' and sum up the values for 2017\n",
    "groupby_area = selected_data.groupby('Area').sum()\n",
    "\n",
    "# Find the area with the highest sum in 2017\n",
    "highest_area = groupby_area['Y2017'].idxmax()\n",
    "highest_sum = groupby_area['Y2017'].max()\n",
    "\n",
    "print(\"Area with the highest sum in 2017:\", highest_area)\n",
    "print(\"Highest sum in 2017:\", highest_sum)"
   ]
  },
  {
   "cell_type": "markdown",
   "id": "cefc4e58",
   "metadata": {},
   "source": [
    "### Question 18\n",
    "Select columns ‘Y2017’ and ‘Area’, Perform a groupby operation on ‘Area’.  Which of these Areas had the 7th lowest sum in 2017?"
   ]
  },
  {
   "cell_type": "code",
   "execution_count": 45,
   "id": "7260b648",
   "metadata": {},
   "outputs": [
    {
     "name": "stdout",
     "output_type": "stream",
     "text": [
      "The 7th lowest area in 2017 is: Guinea-Bissau\n",
      "With a sum of: 19102.77\n"
     ]
    }
   ],
   "source": [
    "# Select only the 'Area' and 'Y2017' columns\n",
    "selected_data = data[['Area', 'Y2017']]\n",
    "\n",
    "# Group by 'Area' and sum up the values for 2017\n",
    "grouped_by_area = selected_data.groupby('Area').sum()\n",
    "\n",
    "# Sort the results and find the 7th lowest sum\n",
    "sorted_sums_2017 = grouped_by_area['Y2017'].sort_values()\n",
    "seventh_lowest_area = sorted_sums_2017.index[6]  # Indexing starts at 0, so index 6 is the 7th element\n",
    "seventh_lowest_sum = sorted_sums_2017.iloc[6]\n",
    "\n",
    "print(\"The 7th lowest area in 2017 is:\", seventh_lowest_area)\n",
    "print(\"With a sum of:\", seventh_lowest_sum)"
   ]
  },
  {
   "cell_type": "markdown",
   "id": "9b0a89a8",
   "metadata": {},
   "source": [
    "### Question 19\n",
    "Which of the following is a python inbuilt module?\n",
    "\n",
    "Options\n",
    "- Matplotlib\n",
    "- Math\n",
    "- Pandas\n",
    "- Seaborn\n",
    "\n",
    "Answer:\n",
    "#### Math"
   ]
  },
  {
   "attachments": {
    "image.png": {
     "image/png": "[encoded data removed]"
    }
   },
   "cell_type": "markdown",
   "id": "26481910",
   "metadata": {},
   "source": [
    "### Question 20\n",
    "If you have the following list\n",
    "lst = [[35, 'Portugal', 94], [33, 'Argentina', 93], [30 , 'Brazil', 92]]\n",
    "col = [‘Age’,’Nationality’,’Overall’]\n",
    "How do you create a pandas DataFrame using this list, to look like the table below?\n",
    "\n",
    "![image.png](attachment:image.png)"
   ]
  },
  {
   "cell_type": "code",
   "execution_count": 48,
   "id": "85303dd1",
   "metadata": {},
   "outputs": [
    {
     "data": {
      "text/html": [
       "<div>\n",
       "<style scoped>\n",
       "    .dataframe tbody tr th:only-of-type {\n",
       "        vertical-align: middle;\n",
       "    }\n",
       "\n",
       "    .dataframe tbody tr th {\n",
       "        vertical-align: top;\n",
       "    }\n",
       "\n",
       "    .dataframe thead th {\n",
       "        text-align: right;\n",
       "    }\n",
       "</style>\n",
       "<table border=\"1\" class=\"dataframe\">\n",
       "  <thead>\n",
       "    <tr style=\"text-align: right;\">\n",
       "      <th></th>\n",
       "      <th>Age</th>\n",
       "      <th>Nationality</th>\n",
       "      <th>Overall</th>\n",
       "    </tr>\n",
       "  </thead>\n",
       "  <tbody>\n",
       "    <tr>\n",
       "      <th>1</th>\n",
       "      <td>35</td>\n",
       "      <td>Portugal</td>\n",
       "      <td>94</td>\n",
       "    </tr>\n",
       "    <tr>\n",
       "      <th>2</th>\n",
       "      <td>33</td>\n",
       "      <td>Argentina</td>\n",
       "      <td>93</td>\n",
       "    </tr>\n",
       "    <tr>\n",
       "      <th>3</th>\n",
       "      <td>30</td>\n",
       "      <td>Brazil</td>\n",
       "      <td>92</td>\n",
       "    </tr>\n",
       "  </tbody>\n",
       "</table>\n",
       "</div>"
      ],
      "text/plain": [
       "   Age Nationality  Overall\n",
       "1   35    Portugal       94\n",
       "2   33   Argentina       93\n",
       "3   30      Brazil       92"
      ]
     },
     "execution_count": 48,
     "metadata": {},
     "output_type": "execute_result"
    }
   ],
   "source": [
    "# Given list and columns\n",
    "lst = [[35, 'Portugal', 94], [33, 'Argentina', 93], [30, 'Brazil', 92]]\n",
    "col = ['Age', 'Nationality', 'Overall']\n",
    "\n",
    "# Create a pandas DataFrame\n",
    "df = pd.DataFrame(lst, columns=col, index=[1,2,3])\n",
    "df"
   ]
  }
 ],
 "metadata": {
  "kernelspec": {
   "display_name": "Python 3 (ipykernel)",
   "language": "python",
   "name": "python3"
  },
  "language_info": {
   "codemirror_mode": {
    "name": "ipython",
    "version": 3
   },
   "file_extension": ".py",
   "mimetype": "text/x-python",
   "name": "python",
   "nbconvert_exporter": "python",
   "pygments_lexer": "ipython3",
   "version": "3.9.12"
  }
 },
 "nbformat": 4,
 "nbformat_minor": 5
}
